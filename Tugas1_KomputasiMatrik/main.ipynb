{
 "cells": [
  {
   "cell_type": "markdown",
   "metadata": {},
   "source": [
    "<b>\n",
    "    Nama = Helmy Luqmanulhakim\n",
    "\n",
    "    NIM = 22051204014\n",
    "\n",
    "    Kelas = Sains Komputasi 2022A\n",
    "</b>"
   ]
  },
  {
   "cell_type": "markdown",
   "metadata": {},
   "source": [
    "# Task [1] : Penjumlahan Matriks A dan B"
   ]
  },
  {
   "cell_type": "code",
   "execution_count": 7,
   "metadata": {},
   "outputs": [
    {
     "name": "stdout",
     "output_type": "stream",
     "text": [
      "Data type member of matrix A : float64\n",
      "\n",
      "Matrix A : \n",
      "[[ 8.  5.  6.]\n",
      " [ 4.  5.  2.]\n",
      " [ 9.  7. 10.]]\n"
     ]
    }
   ],
   "source": [
    "import numpy as np\n",
    "\n",
    "matrix_A: np.ndarray = np.array([[8.0, 5.0, 6.0], [4.0, 5.0, 2.0], [9.0, 7, 10.0]])\n",
    "\n",
    "print(f\"Data type member of matrix A : {matrix_A[0, 0].dtype}\", end=\"\\n\\n\")\n",
    "print(f\"Matrix A : \\n{matrix_A}\")"
   ]
  },
  {
   "cell_type": "code",
   "execution_count": 8,
   "metadata": {},
   "outputs": [
    {
     "name": "stdout",
     "output_type": "stream",
     "text": [
      "Data type member of matrix B : float64\n",
      "\n",
      "Matrix B : \n",
      "[[5. 5. 6.]\n",
      " [4. 5. 2.]\n",
      " [9. 7. 6.]]\n"
     ]
    }
   ],
   "source": [
    "matrix_B: np.ndarray = np.array([[5.0, 5.0, 6.0], [4.0, 5.0, 2.0], [9.0, 7, 6.0]])\n",
    "\n",
    "print(f\"Data type member of matrix B : {matrix_B[0, 0].dtype}\", end=\"\\n\\n\")\n",
    "print(f\"Matrix B : \\n{matrix_B}\")"
   ]
  },
  {
   "cell_type": "code",
   "execution_count": 9,
   "metadata": {},
   "outputs": [
    {
     "name": "stdout",
     "output_type": "stream",
     "text": [
      "Matrix A + Matrix B : \n",
      "[[13. 10. 12.]\n",
      " [ 8. 10.  4.]\n",
      " [18. 14. 16.]]\n"
     ]
    }
   ],
   "source": [
    "print(f\"Matrix A + Matrix B : \\n{matrix_A + matrix_B}\")"
   ]
  },
  {
   "cell_type": "markdown",
   "metadata": {},
   "source": [
    "# Task [2] : Pengurangan Matriks A dan B"
   ]
  },
  {
   "cell_type": "code",
   "execution_count": 10,
   "metadata": {},
   "outputs": [
    {
     "name": "stdout",
     "output_type": "stream",
     "text": [
      "Matrix A - Matrix B : \n",
      "[[3. 0. 0.]\n",
      " [0. 0. 0.]\n",
      " [0. 0. 4.]]\n"
     ]
    }
   ],
   "source": [
    "print(f\"Matrix A - Matrix B : \\n{matrix_A - matrix_B}\")"
   ]
  },
  {
   "cell_type": "markdown",
   "metadata": {},
   "source": [
    "# Task [3] : Zero Matrix"
   ]
  },
  {
   "cell_type": "code",
   "execution_count": 11,
   "metadata": {},
   "outputs": [
    {
     "name": "stdout",
     "output_type": "stream",
     "text": [
      "matrix_D : \n",
      "[[12. 13.  8.]\n",
      " [13.  6.  8.]]\n"
     ]
    }
   ],
   "source": [
    "import numpy as np\n",
    "\n",
    "matrix_A: np.ndarray = np.array([[3.0, 8.0, 5.0], [6.0, 4.0, 7.0]])\n",
    "\n",
    "matrix_C: np.ndarray = np.array([[9.0, 5.0, 3.0], [7.0, 2.0, 1.0]])\n",
    "\n",
    "dim_n: int = 2\n",
    "dim_m: int = 3\n",
    "matrix_D: np.ndarray = np.zeros((dim_n, dim_m))\n",
    "\n",
    "for i in range(dim_n):\n",
    "    for j in range(dim_m):\n",
    "        matrix_D[i][j] = matrix_A[i][j] + matrix_C[i][j]\n",
    "\n",
    "print(f\"matrix_D : \\n{matrix_D}\")"
   ]
  },
  {
   "cell_type": "markdown",
   "metadata": {},
   "source": [
    "# Task [4] : Analisis Operasi Matriks"
   ]
  },
  {
   "cell_type": "code",
   "execution_count": 12,
   "metadata": {},
   "outputs": [
    {
     "name": "stdout",
     "output_type": "stream",
     "text": [
      "matrix_E : \n",
      "[[ 53. 101.]\n",
      " [ 40.  82.]]\n"
     ]
    }
   ],
   "source": [
    "import numpy as np\n",
    "\n",
    "matrix_A: np.ndarray = np.array([[3.0, 8.0, 5.0], [6.0, 4.0, 7.0]])\n",
    "matrix_B: np.ndarray = np.array([[1.0, 3.0], [5.0, 9.0], [2.0, 4.0]])\n",
    "\n",
    "dim_n: int = 2\n",
    "dim_m: int = 3\n",
    "dim_p: int = 2\n",
    "\n",
    "matrix_E: np.ndarray = np.zeros((dim_n, dim_p))\n",
    "\n",
    "for i in range(dim_n):\n",
    "    for j in range(dim_p):\n",
    "        for k in range(dim_m):\n",
    "            matrix_E[i][j] += matrix_A[i][k] * matrix_B[k][j]\n",
    "\n",
    "print(f\"matrix_E : \\n{matrix_E}\")"
   ]
  },
  {
   "cell_type": "markdown",
   "metadata": {},
   "source": [
    "Pada operasi di atas dilakukan proses inisialisasi matriks A berordo 2x3 dan matriks B berordo 3x2. Kemudian dilakukan inisialisasi matrix nol sebagai matriks yang akan menampung hasil operasi.\n",
    "\n",
    "Operasi di atas merupakan operasi `Dot Product` untuk Matriks A dan B."
   ]
  },
  {
   "cell_type": "markdown",
   "metadata": {},
   "source": [
    "# Task [5] : Analisis Operasi Matriks"
   ]
  },
  {
   "cell_type": "code",
   "execution_count": 13,
   "metadata": {},
   "outputs": [
    {
     "name": "stdout",
     "output_type": "stream",
     "text": [
      "matrix_E : \n",
      "[[50.]\n",
      " [52.]]\n"
     ]
    }
   ],
   "source": [
    "import numpy as np\n",
    "\n",
    "matrix_A: np.ndarray = np.array([[3.0, 8.0, 5.0], [6.0, 4.0, 7.0]])\n",
    "\n",
    "matrix_X: np.ndarray = np.array([[2.0], [3.0], [4.0]])\n",
    "\n",
    "dim_n: int = 2\n",
    "dim_m: int = 3\n",
    "\n",
    "matrix_E: np.ndarray = np.zeros((dim_n, 1))\n",
    "\n",
    "for i in range(0, dim_n):\n",
    "    for j in range(0, dim_m):\n",
    "        matrix_E[i][0] += matrix_A[i][j] * matrix_X[j][0]\n",
    "\n",
    "print(f\"matrix_E : \\n{matrix_E}\")"
   ]
  },
  {
   "cell_type": "markdown",
   "metadata": {},
   "source": [
    "Pada operasi di atas dilakukan proses inisialisasi matriks A berordo 3x2 dan matriks X berordo 1x3. Kemudian dilakukan inisialisasi matrix nol sebagai matriks yang akan menampung hasil operasi.\n",
    "\n",
    "Operasi di atas merupakan operasi `Dot Product` untuk Matriks A dan B."
   ]
  },
  {
   "cell_type": "markdown",
   "metadata": {},
   "source": [
    "# Task [6] : Analisis Operasi List"
   ]
  },
  {
   "cell_type": "code",
   "execution_count": 14,
   "metadata": {},
   "outputs": [
    {
     "name": "stdout",
     "output_type": "stream",
     "text": [
      "Transpose of matrix X : \n",
      "[20, 8, 9]\n",
      "[9, 5, 8]\n"
     ]
    }
   ],
   "source": [
    "list_X: list = [[20, 9], [8, 5], [9, 8]]\n",
    "\n",
    "list_result: list = [[0, 0, 0], [0, 0, 0]]\n",
    "\n",
    "for i in range(len(list_X)):\n",
    "    for j in range(len(list_X[0])):\n",
    "        list_result[j][i] = list_X[i][j]\n",
    "\n",
    "print(\"Transpose of matrix X : \")\n",
    "for r in list_result:\n",
    "    print(r)"
   ]
  },
  {
   "cell_type": "markdown",
   "metadata": {},
   "source": [
    "Pada kode di atas, dilakukan proses transponse matrix untuk List X."
   ]
  },
  {
   "cell_type": "markdown",
   "metadata": {},
   "source": [
    "# Task [7] : Analisis Operasi"
   ]
  },
  {
   "cell_type": "code",
   "execution_count": 15,
   "metadata": {},
   "outputs": [
    {
     "name": "stdout",
     "output_type": "stream",
     "text": [
      "y = 56\n"
     ]
    }
   ],
   "source": [
    "a: int = 5\n",
    "b: int = 6\n",
    "c: int = 7\n",
    "\n",
    "y: int = a * 2 + b * 3 + c * 4\n",
    "\n",
    "print(f\"y = {y}\")"
   ]
  },
  {
   "cell_type": "markdown",
   "metadata": {},
   "source": [
    "Pada operasi di atas, melakukan proses perkalian dan pertambahan variabel a dan b."
   ]
  },
  {
   "cell_type": "markdown",
   "metadata": {},
   "source": [
    "# Task [8] : Analisis Operasi Fungsi"
   ]
  },
  {
   "cell_type": "code",
   "execution_count": 16,
   "metadata": {},
   "outputs": [
    {
     "name": "stdout",
     "output_type": "stream",
     "text": [
      "f (2,3) = 230\n"
     ]
    }
   ],
   "source": [
    "def equation(a: int, b: int) -> int:\n",
    "    return 25 * a + 60 * b\n",
    "\n",
    "\n",
    "print(f\"f (2,3) = {equation(2, 3)}\")"
   ]
  },
  {
   "cell_type": "markdown",
   "metadata": {},
   "source": [
    "Pada fungsi di atas sama seperti operasi pada task 7, hanya saja dilakukan proses dengan menggunakan fungsi."
   ]
  },
  {
   "cell_type": "markdown",
   "metadata": {},
   "source": [
    "# Task [9] : Analisis Operasi dalam Class"
   ]
  },
  {
   "cell_type": "code",
   "execution_count": 17,
   "metadata": {},
   "outputs": [
    {
     "name": "stdout",
     "output_type": "stream",
     "text": [
      "f (5,6,7) = 56\n"
     ]
    }
   ],
   "source": [
    "class MathFunc:\n",
    "    def eq1(a: int, b: int, c: int) -> int:\n",
    "        return 2 * a + 3 * b + 4 * c\n",
    "\n",
    "\n",
    "print(f\"f (5,6,7) = {MathFunc.eq1(5, 6, 7)}\")"
   ]
  },
  {
   "cell_type": "markdown",
   "metadata": {},
   "source": [
    "Pada class di atas sama seperti operasi pada task 7 dan 8, hanya saja dilakukan proses dengan menggunakan class."
   ]
  },
  {
   "cell_type": "markdown",
   "metadata": {},
   "source": [
    "# Task [10] : Analisis Operasi dalam Class"
   ]
  },
  {
   "cell_type": "code",
   "execution_count": 18,
   "metadata": {},
   "outputs": [
    {
     "name": "stdout",
     "output_type": "stream",
     "text": [
      "f (5,6,7) = (56, 210)\n"
     ]
    }
   ],
   "source": [
    "class MathFunc:\n",
    "    def eq1(a: int, b: int, c: int) -> int:\n",
    "        return 2 * a + 3 * b + 4 * c\n",
    "\n",
    "    def eq2(a: int, b: int, c: int) -> tuple:\n",
    "        x = MathFunc.eq1(a, b, c)\n",
    "        y = a * b * c\n",
    "        return x, y\n",
    "\n",
    "\n",
    "print(f\"f (5,6,7) = {MathFunc.eq2(5, 6, 7)}\")"
   ]
  },
  {
   "cell_type": "markdown",
   "metadata": {},
   "source": [
    "Dilakukan penambahan fungsi pada class di atas."
   ]
  },
  {
   "cell_type": "markdown",
   "metadata": {},
   "source": [
    "# Task [11] : Analisis Operasi dalam Class"
   ]
  },
  {
   "cell_type": "code",
   "execution_count": 19,
   "metadata": {},
   "outputs": [
    {
     "name": "stdout",
     "output_type": "stream",
     "text": [
      "X = 22\n",
      "f (1,1,1) = 22\n",
      "\n",
      "X = 18, y = 8\n",
      "f (1,1,1) = (18, 8)\n"
     ]
    }
   ],
   "source": [
    "class MathFunc:\n",
    "    def eq1(a: int, b: int, c: int) -> int:\n",
    "        return 2 * a + 3 * b + 4 * c\n",
    "\n",
    "    def eq2(a: int, b: int, c: int) -> tuple:\n",
    "        X = MathFunc.eq1(a, b, c)\n",
    "        y = a * b * c\n",
    "        return X, y\n",
    "\n",
    "    def eq3(a: int, b: int, c: int) -> int:\n",
    "        X = a * 6 + b * 8 + c * 8\n",
    "        print(f\"X = {X}\")\n",
    "        return X\n",
    "\n",
    "    def eq4(a: int, b: int, c: int) -> tuple:\n",
    "        X, y = MathFunc.eq2(a, b, c)\n",
    "        print(f\"X = {X}, y = {y}\")\n",
    "        return X, y\n",
    "\n",
    "\n",
    "print(f\"f (1,1,1) = {MathFunc.eq3(1, 1, 1)}\", end=\"\\n\\n\")\n",
    "print(f\"f (1,1,1) = {MathFunc.eq4(2, 2, 2)}\")"
   ]
  },
  {
   "cell_type": "markdown",
   "metadata": {},
   "source": [
    "Dilakukan penambahan fungsi pada class di atas."
   ]
  },
  {
   "cell_type": "markdown",
   "metadata": {},
   "source": [
    "# Task [12]"
   ]
  },
  {
   "cell_type": "code",
   "execution_count": 20,
   "metadata": {},
   "outputs": [
    {
     "name": "stdout",
     "output_type": "stream",
     "text": [
      "f (1,1,1) = 22\n"
     ]
    }
   ],
   "source": [
    "def eq3(a: int, b: int, c: int) -> int:\n",
    "    X = a * 6 + b * 8 + c * 8\n",
    "    return X\n",
    "\n",
    "\n",
    "print(f\"f (1,1,1) = {eq3(1, 1, 1)}\")"
   ]
  },
  {
   "cell_type": "markdown",
   "metadata": {},
   "source": [
    "# Task [13] : Simpan file ipynb sebagai  matematika1.ipynb"
   ]
  },
  {
   "cell_type": "markdown",
   "metadata": {},
   "source": [
    "![Alt text](image.png)"
   ]
  },
  {
   "cell_type": "markdown",
   "metadata": {},
   "source": [
    "# Task [14] : Konversi ipynb menjadi pyscript"
   ]
  },
  {
   "cell_type": "markdown",
   "metadata": {},
   "source": [
    "![Alt text](image-1.png)"
   ]
  },
  {
   "cell_type": "markdown",
   "metadata": {},
   "source": [
    "![Alt text](image-2.png)"
   ]
  },
  {
   "cell_type": "markdown",
   "metadata": {},
   "source": [
    "![Alt text](image-3.png)"
   ]
  },
  {
   "cell_type": "markdown",
   "metadata": {},
   "source": [
    "# Task [15] : Konversi ipynb menjadi pyscript"
   ]
  },
  {
   "cell_type": "code",
   "execution_count": 21,
   "metadata": {},
   "outputs": [
    {
     "name": "stdout",
     "output_type": "stream",
     "text": [
      "f (1,1,1) = (9, 1)\n",
      "f (3,3,3) = 66\n"
     ]
    }
   ],
   "source": [
    "from matematika1 import MathFunc\n",
    "\n",
    "print(f\"f (1,1,1) = {MathFunc.eq4(1, 1, 1)}\")\n",
    "print(f\"f (3,3,3) = {MathFunc.eq3(3, 3, 3)}\")"
   ]
  },
  {
   "cell_type": "markdown",
   "metadata": {},
   "source": [
    "![Alt text](image-4.png)"
   ]
  }
 ],
 "metadata": {
  "kernelspec": {
   "display_name": "Kaggle",
   "language": "python",
   "name": "python3"
  },
  "language_info": {
   "codemirror_mode": {
    "name": "ipython",
    "version": 3
   },
   "file_extension": ".py",
   "mimetype": "text/x-python",
   "name": "python",
   "nbconvert_exporter": "python",
   "pygments_lexer": "ipython3",
   "version": "3.11.4"
  },
  "orig_nbformat": 4
 },
 "nbformat": 4,
 "nbformat_minor": 2
}

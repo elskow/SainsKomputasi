{
 "cells": [
  {
   "cell_type": "code",
   "execution_count": null,
   "metadata": {},
   "outputs": [],
   "source": [
    "class MathFunc:\n",
    "    def eq3(a: int, b: int, c: int) -> int:\n",
    "        X = a * 6 + b * 8 + c * 8\n",
    "        return X\n",
    "\n",
    "    def eq4(a: int, b: int, c: int) -> tuple:\n",
    "        X = 2 * a + 3 * b + 4 * c\n",
    "        y = a * b * c\n",
    "        return X, y"
   ]
  }
 ],
 "metadata": {
  "language_info": {
   "name": "python"
  },
  "orig_nbformat": 4
 },
 "nbformat": 4,
 "nbformat_minor": 2
}
